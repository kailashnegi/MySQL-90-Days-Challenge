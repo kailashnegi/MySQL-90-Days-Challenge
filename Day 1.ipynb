{
 "cells": [
  {
   "cell_type": "markdown",
   "metadata": {},
   "source": [
    "# MYSQL - Day 1 "
   ]
  },
  {
   "cell_type": "markdown",
   "metadata": {},
   "source": [
    "### Query 1 : Select from two tables"
   ]
  },
  {
   "cell_type": "raw",
   "metadata": {},
   "source": [
    "Table: Person\n",
    "\n",
    "+-------------+---------+\n",
    "| Column Name | Type    |\n",
    "+-------------+---------+\n",
    "| PersonId    | int     |\n",
    "| FirstName   | varchar |\n",
    "| LastName    | varchar |\n",
    "+-------------+---------+\n",
    "PersonId is the primary key column for this table.\n",
    "\n",
    "Table: Address\n",
    "\n",
    "+-------------+---------+\n",
    "| Column Name | Type    |\n",
    "+-------------+---------+\n",
    "| AddressId   | int     |\n",
    "| PersonId    | int     |\n",
    "| City        | varchar |\n",
    "| State       | varchar |\n",
    "+-------------+---------+\n",
    "AddressId is the primary key column for this table.\n",
    "\n",
    "Write a SQL query for a report that provides the following information for each person in the Person table, regardless if there is an address for each of those people:\n",
    "\n",
    "FirstName, LastName, City, State"
   ]
  },
  {
   "cell_type": "markdown",
   "metadata": {},
   "source": [
    "<b>Solution:</b>"
   ]
  },
  {
   "cell_type": "raw",
   "metadata": {},
   "source": [
    "SELECT P.FirstName, P.LastName, A.City, A.State \n",
    "FROM Person P LEFT JOIN Address A ON P.PersonId = A.PersonId"
   ]
  },
  {
   "cell_type": "markdown",
   "metadata": {},
   "source": [
    "### Query 2 : 2nd Highest Salary"
   ]
  },
  {
   "cell_type": "raw",
   "metadata": {},
   "source": [
    "Write a SQL query to get the second highest salary from the Employee table.\n",
    "\n",
    "+----+--------+\n",
    "| Id | Salary |\n",
    "+----+--------+\n",
    "| 1  | 100    |\n",
    "| 2  | 200    |\n",
    "| 3  | 300    |\n",
    "+----+--------+\n",
    "For example, given the above Employee table, the query should return 200 as the second highest salary. If there is no second highest salary, then the query should return null.\n",
    "\n",
    "+---------------------+\n",
    "| SecondHighestSalary |\n",
    "+---------------------+\n",
    "| 200                 |\n",
    "+---------------------+"
   ]
  },
  {
   "cell_type": "markdown",
   "metadata": {},
   "source": [
    "<b>Method 1</b>"
   ]
  },
  {
   "cell_type": "raw",
   "metadata": {},
   "source": [
    "SELECT (SELECT DISTINCT Salary FROM Employee ORDER BY SALARY DESC LIMIT 1 OFFSET 1) AS SecondHighestSalary;"
   ]
  },
  {
   "cell_type": "markdown",
   "metadata": {},
   "source": [
    "<b>Method 2</b>"
   ]
  },
  {
   "cell_type": "raw",
   "metadata": {},
   "source": [
    "SELECT MAX(Salary) AS SecondHighestSalary\n",
    "FROM Employee\n",
    "WHERE Salary < (SELECT MAX(Salary) FROM Employee);"
   ]
  },
  {
   "cell_type": "markdown",
   "metadata": {},
   "source": [
    "### Query 3 : Nth Highest Salary "
   ]
  },
  {
   "cell_type": "raw",
   "metadata": {},
   "source": [
    "Write a SQL query to get the nth highest salary from the Employee table.\n",
    "\n",
    "+----+--------+\n",
    "| Id | Salary |\n",
    "+----+--------+\n",
    "| 1  | 100    |\n",
    "| 2  | 200    |\n",
    "| 3  | 300    |\n",
    "+----+--------+\n",
    "For example, given the above Employee table, the nth highest salary where n = 2 is 200. If there is no nth highest salary, then the query should return null.\n",
    "\n",
    "+------------------------+\n",
    "| getNthHighestSalary(2) |\n",
    "+------------------------+\n",
    "| 200                    |\n",
    "+------------------------+"
   ]
  },
  {
   "cell_type": "markdown",
   "metadata": {},
   "source": [
    "<b>Solution :</b>"
   ]
  },
  {
   "cell_type": "raw",
   "metadata": {},
   "source": [
    "CREATE FUNCTION getNthHighestSalary(N INT) RETURNS INT\n",
    "BEGIN\n",
    "SET N = N-1;\n",
    "RETURN (\n",
    "      # Write your MySQL query statement below.\n",
    "      SELECT DISTINCT Salary as \"getNthHighestSalary\"\n",
    "      FROM Employee ORDER BY Salary DESC LIMIT 1 OFFSET N\n",
    "      \n",
    "  );\n",
    "END"
   ]
  },
  {
   "cell_type": "markdown",
   "metadata": {},
   "source": [
    "### Query 4 : Rank Scores "
   ]
  },
  {
   "cell_type": "raw",
   "metadata": {},
   "source": [
    "Write a SQL query to rank scores. If there is a tie between two scores, both should have the same ranking. Note that after a tie, the next ranking number should be the next consecutive integer value. In other words, there should be no \"holes\" between ranks.\n",
    "\n",
    "+----+-------+\n",
    "| Id | Score |\n",
    "+----+-------+\n",
    "| 1  | 3.50  |\n",
    "| 2  | 3.65  |\n",
    "| 3  | 4.00  |\n",
    "| 4  | 3.85  |\n",
    "| 5  | 4.00  |\n",
    "| 6  | 3.65  |\n",
    "+----+-------+\n",
    "For example, given the above Scores table, your query should generate the following report (order by highest score):\n",
    "\n",
    "+-------+---------+\n",
    "| score | Rank    |\n",
    "+-------+---------+\n",
    "| 4.00  | 1       |\n",
    "| 4.00  | 1       |\n",
    "| 3.85  | 2       |\n",
    "| 3.65  | 3       |\n",
    "| 3.65  | 3       |\n",
    "| 3.50  | 4       |\n",
    "+-------+---------+\n",
    "\n",
    "Important Note: For MySQL solutions, to escape reserved words used as column names, you can use an apostrophe before and after the keyword. For example `Rank`."
   ]
  },
  {
   "cell_type": "markdown",
   "metadata": {},
   "source": [
    "<b>Solution :</b>"
   ]
  },
  {
   "cell_type": "raw",
   "metadata": {},
   "source": [
    "##Apostrophe is being used because Rank is a keyword in MySQL.\n",
    "\n",
    "SELECT Score,\n",
    "    DENSE_RANK() OVER (\n",
    "        ORDER BY Score DESC\n",
    "    ) `Rank`\n",
    "FROM\n",
    "    Scores;"
   ]
  },
  {
   "cell_type": "markdown",
   "metadata": {},
   "source": [
    "### Query 4 : Consecutive Numbers "
   ]
  },
  {
   "cell_type": "raw",
   "metadata": {},
   "source": [
    "Table: Logs\n",
    "\n",
    "+-------------+---------+\n",
    "| Column Name | Type    |\n",
    "+-------------+---------+\n",
    "| id          | int     |\n",
    "| num         | varchar |\n",
    "+-------------+---------+\n",
    "id is the primary key for this table.\n",
    " \n",
    "\n",
    "Write an SQL query to find all numbers that appear at least three times consecutively.\n",
    "\n",
    "Return the result table in any order.\n",
    "\n",
    "The query result format is in the following example:\n",
    "\n",
    " \n",
    "\n",
    "Logs table:\n",
    "+----+-----+\n",
    "| Id | Num |\n",
    "+----+-----+\n",
    "| 1  | 1   |\n",
    "| 2  | 1   |\n",
    "| 3  | 1   |\n",
    "| 4  | 2   |\n",
    "| 5  | 1   |\n",
    "| 6  | 2   |\n",
    "| 7  | 2   |\n",
    "+----+-----+\n",
    "\n",
    "Result table:\n",
    "+-----------------+\n",
    "| ConsecutiveNums |\n",
    "+-----------------+\n",
    "| 1               |\n",
    "+-----------------+\n",
    "1 is the only number that appears consecutively for at least three times."
   ]
  },
  {
   "cell_type": "markdown",
   "metadata": {},
   "source": [
    "<b>Solution :</b>"
   ]
  },
  {
   "cell_type": "raw",
   "metadata": {},
   "source": [
    "SELECT DISTINCT L.Num as 'ConsecutiveNums'\n",
    "FROM\n",
    "    (SELECT Id,Num,LAG(Num) OVER (ORDER BY Id) AS 'Lag', LEAD(Num) OVER (ORDER BY Id) AS 'Lead' FROM Logs) L\n",
    "WHERE L.Num=L.Lag AND L.Lag=L.Lead\n",
    "ORDER BY 1"
   ]
  },
  {
   "cell_type": "code",
   "execution_count": null,
   "metadata": {},
   "outputs": [],
   "source": []
  }
 ],
 "metadata": {
  "kernelspec": {
   "display_name": "Python 3",
   "language": "python",
   "name": "python3"
  },
  "language_info": {
   "codemirror_mode": {
    "name": "ipython",
    "version": 3
   },
   "file_extension": ".py",
   "mimetype": "text/x-python",
   "name": "python",
   "nbconvert_exporter": "python",
   "pygments_lexer": "ipython3",
   "version": "3.7.9"
  }
 },
 "nbformat": 4,
 "nbformat_minor": 4
}
