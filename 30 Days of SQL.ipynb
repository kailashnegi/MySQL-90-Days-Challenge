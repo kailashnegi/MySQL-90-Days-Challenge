{
 "cells": [
  {
   "cell_type": "markdown",
   "metadata": {},
   "source": [
    "## 30 Days of SQL  "
   ]
  },
  {
   "cell_type": "markdown",
   "metadata": {},
   "source": [
    "This is an attempt to get comfortable in data manipulation with SQL in 30 days."
   ]
  },
  {
   "cell_type": "markdown",
   "metadata": {},
   "source": [
    "### Day 1 - Overview"
   ]
  },
  {
   "cell_type": "markdown",
   "metadata": {},
   "source": [
    "<b>What is SQL?</b><ul><li>SQL is a standard language for storing, manipulating and retrieving data in databases.</li><li>SQL lets you access and manipulate databases</li></ul>"
   ]
  },
  {
   "cell_type": "markdown",
   "metadata": {},
   "source": [
    "<b>What Can SQL do?</b>\n",
    "<ul>\n",
    "    <li>SQL can create new databases</li>\n",
    "    <li>SQL can create new tables in a database</li>\n",
    "    <li>SQL can retrieve records, insert records, update records and delete records from a database</li> \n",
    "    <li>SQL can create stored procedures, views in database</li>\n",
    "    <li>SQL can set permissions on tables, procedures and views</li>\n",
    "</ul>"
   ]
  },
  {
   "cell_type": "code",
   "execution_count": null,
   "metadata": {},
   "outputs": [],
   "source": []
  }
 ],
 "metadata": {
  "kernelspec": {
   "display_name": "Python 3",
   "language": "python",
   "name": "python3"
  },
  "language_info": {
   "codemirror_mode": {
    "name": "ipython",
    "version": 3
   },
   "file_extension": ".py",
   "mimetype": "text/x-python",
   "name": "python",
   "nbconvert_exporter": "python",
   "pygments_lexer": "ipython3",
   "version": "3.7.4"
  }
 },
 "nbformat": 4,
 "nbformat_minor": 2
}
